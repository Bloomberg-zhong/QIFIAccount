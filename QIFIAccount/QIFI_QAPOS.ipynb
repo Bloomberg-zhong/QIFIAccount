{
 "cells": [
  {
   "cell_type": "code",
   "execution_count": 1,
   "metadata": {},
   "outputs": [],
   "source": [
    "# test QAPositions"
   ]
  },
  {
   "cell_type": "code",
   "execution_count": 2,
   "metadata": {},
   "outputs": [],
   "source": [
    "from QUANTAXIS.QAMarket.QAPosition import QA_Position"
   ]
  },
  {
   "cell_type": "code",
   "execution_count": 3,
   "metadata": {},
   "outputs": [],
   "source": [
    "pos = QA_Position(code = 'RB2001')"
   ]
  },
  {
   "cell_type": "code",
   "execution_count": 4,
   "metadata": {},
   "outputs": [
    {
     "data": {
      "text/plain": [
       "{'code': 'RB2001',\n",
       " 'instrument_id': 'RB2001',\n",
       " 'user_id': 'quantaxis',\n",
       " 'portfolio_cookie': 'portfolio',\n",
       " 'username': 'quantaxis',\n",
       " 'position_id': 'e3678ffa-8a54-46d9-b397-40a39a600e59',\n",
       " 'account_cookie': 'quantaxis',\n",
       " 'frozen': {},\n",
       " 'name': None,\n",
       " 'spms_id': None,\n",
       " 'oms_id': None,\n",
       " 'market_type': 'future_cn',\n",
       " 'exchange_id': None,\n",
       " 'moneypreset': 100000,\n",
       " 'moneypresetLeft': 100000,\n",
       " 'lastupdatetime': '',\n",
       " 'volume_long_today': 0,\n",
       " 'volume_long_his': 0,\n",
       " 'volume_long': 0,\n",
       " 'volume_short_today': 0,\n",
       " 'volume_short_his': 0,\n",
       " 'volume_short': 0,\n",
       " 'volume_long_frozen_today': 0,\n",
       " 'volume_long_frozen_his': 0,\n",
       " 'volume_long_frozen': 0,\n",
       " 'volume_short_frozen_today': 0,\n",
       " 'volume_short_frozen_his': 0,\n",
       " 'volume_short_frozen': 0,\n",
       " 'margin_long': 0,\n",
       " 'margin_short': 0,\n",
       " 'margin': 0,\n",
       " 'position_price_long': 0,\n",
       " 'position_cost_long': 0,\n",
       " 'position_price_short': 0,\n",
       " 'position_cost_short': 0,\n",
       " 'open_price_long': 0,\n",
       " 'open_cost_long': 0,\n",
       " 'open_price_short': 0,\n",
       " 'open_cost_short': 0,\n",
       " 'trades': [],\n",
       " 'orders': {},\n",
       " 'last_price': 0,\n",
       " 'float_profit_long': 0,\n",
       " 'float_profit_short': 0,\n",
       " 'float_profit': 0,\n",
       " 'position_profit_long': 0,\n",
       " 'position_profit_short': 0,\n",
       " 'position_profit': 0}"
      ]
     },
     "execution_count": 4,
     "metadata": {},
     "output_type": "execute_result"
    }
   ],
   "source": [
    "pos.message"
   ]
  },
  {
   "cell_type": "code",
   "execution_count": 5,
   "metadata": {},
   "outputs": [],
   "source": [
    "pos.update_pos(3000, amount=1,towards=2)"
   ]
  },
  {
   "cell_type": "code",
   "execution_count": 6,
   "metadata": {},
   "outputs": [
    {
     "data": {
      "text/plain": [
       "{'volume_long': 1,\n",
       " 'volume_short': 0,\n",
       " 'volume_long_frozen': 0,\n",
       " 'volume_short_frozen': 0}"
      ]
     },
     "execution_count": 6,
     "metadata": {},
     "output_type": "execute_result"
    }
   ],
   "source": [
    "pos.curpos"
   ]
  },
  {
   "cell_type": "code",
   "execution_count": 7,
   "metadata": {},
   "outputs": [
    {
     "data": {
      "text/plain": [
       "{'code': 'RB2001',\n",
       " 'instrument_id': 'RB2001',\n",
       " 'user_id': 'quantaxis',\n",
       " 'portfolio_cookie': 'portfolio',\n",
       " 'username': 'quantaxis',\n",
       " 'position_id': 'e3678ffa-8a54-46d9-b397-40a39a600e59',\n",
       " 'account_cookie': 'quantaxis',\n",
       " 'frozen': {},\n",
       " 'name': None,\n",
       " 'spms_id': None,\n",
       " 'oms_id': None,\n",
       " 'market_type': 'future_cn',\n",
       " 'exchange_id': None,\n",
       " 'moneypreset': 100000,\n",
       " 'moneypresetLeft': 97300.0,\n",
       " 'lastupdatetime': '',\n",
       " 'volume_long_today': 1,\n",
       " 'volume_long_his': 0,\n",
       " 'volume_long': 1,\n",
       " 'volume_short_today': 0,\n",
       " 'volume_short_his': 0,\n",
       " 'volume_short': 0,\n",
       " 'volume_long_frozen_today': 0,\n",
       " 'volume_long_frozen_his': 0,\n",
       " 'volume_long_frozen': 0,\n",
       " 'volume_short_frozen_today': 0,\n",
       " 'volume_short_frozen_his': 0,\n",
       " 'volume_short_frozen': 0,\n",
       " 'margin_long': 2700.0,\n",
       " 'margin_short': 0,\n",
       " 'margin': 2700.0,\n",
       " 'position_price_long': 3000.0,\n",
       " 'position_cost_long': 30000.0,\n",
       " 'position_price_short': 0,\n",
       " 'position_cost_short': 0,\n",
       " 'open_price_long': 3000.0,\n",
       " 'open_cost_long': 30000.0,\n",
       " 'open_price_short': 0,\n",
       " 'open_cost_short': 0,\n",
       " 'trades': [],\n",
       " 'orders': {}}"
      ]
     },
     "execution_count": 7,
     "metadata": {},
     "output_type": "execute_result"
    }
   ],
   "source": [
    "pos.static_message"
   ]
  },
  {
   "cell_type": "code",
   "execution_count": 8,
   "metadata": {},
   "outputs": [
    {
     "data": {
      "text/plain": [
       "{'code': 'RB2001',\n",
       " 'instrument_id': 'RB2001',\n",
       " 'user_id': 'quantaxis',\n",
       " 'portfolio_cookie': 'portfolio',\n",
       " 'username': 'quantaxis',\n",
       " 'position_id': 'e3678ffa-8a54-46d9-b397-40a39a600e59',\n",
       " 'account_cookie': 'quantaxis',\n",
       " 'frozen': {},\n",
       " 'name': None,\n",
       " 'spms_id': None,\n",
       " 'oms_id': None,\n",
       " 'market_type': 'future_cn',\n",
       " 'exchange_id': None,\n",
       " 'moneypreset': 100000,\n",
       " 'moneypresetLeft': 97300.0,\n",
       " 'lastupdatetime': '',\n",
       " 'volume_long_today': 1,\n",
       " 'volume_long_his': 0,\n",
       " 'volume_long': 1,\n",
       " 'volume_short_today': 0,\n",
       " 'volume_short_his': 0,\n",
       " 'volume_short': 0,\n",
       " 'volume_long_frozen_today': 0,\n",
       " 'volume_long_frozen_his': 0,\n",
       " 'volume_long_frozen': 0,\n",
       " 'volume_short_frozen_today': 0,\n",
       " 'volume_short_frozen_his': 0,\n",
       " 'volume_short_frozen': 0,\n",
       " 'margin_long': 2700.0,\n",
       " 'margin_short': 0,\n",
       " 'margin': 2700.0,\n",
       " 'position_price_long': 3000.0,\n",
       " 'position_cost_long': 30000.0,\n",
       " 'position_price_short': 0,\n",
       " 'position_cost_short': 0,\n",
       " 'open_price_long': 3000.0,\n",
       " 'open_cost_long': 30000.0,\n",
       " 'open_price_short': 0,\n",
       " 'open_cost_short': 0,\n",
       " 'trades': [],\n",
       " 'orders': {},\n",
       " 'last_price': 3000,\n",
       " 'float_profit_long': 0.0,\n",
       " 'float_profit_short': 0,\n",
       " 'float_profit': 0.0,\n",
       " 'position_profit_long': 0.0,\n",
       " 'position_profit_short': 0,\n",
       " 'position_profit': 0.0}"
      ]
     },
     "execution_count": 8,
     "metadata": {},
     "output_type": "execute_result"
    }
   ],
   "source": [
    "pos.message"
   ]
  },
  {
   "cell_type": "code",
   "execution_count": 9,
   "metadata": {},
   "outputs": [],
   "source": [
    "pos.on_pirce_change(3100)"
   ]
  },
  {
   "cell_type": "code",
   "execution_count": 10,
   "metadata": {},
   "outputs": [
    {
     "data": {
      "text/plain": [
       "{'code': 'RB2001',\n",
       " 'instrument_id': 'RB2001',\n",
       " 'user_id': 'quantaxis',\n",
       " 'portfolio_cookie': 'portfolio',\n",
       " 'username': 'quantaxis',\n",
       " 'position_id': 'e3678ffa-8a54-46d9-b397-40a39a600e59',\n",
       " 'account_cookie': 'quantaxis',\n",
       " 'frozen': {},\n",
       " 'name': None,\n",
       " 'spms_id': None,\n",
       " 'oms_id': None,\n",
       " 'market_type': 'future_cn',\n",
       " 'exchange_id': None,\n",
       " 'moneypreset': 100000,\n",
       " 'moneypresetLeft': 97300.0,\n",
       " 'lastupdatetime': '',\n",
       " 'volume_long_today': 1,\n",
       " 'volume_long_his': 0,\n",
       " 'volume_long': 1,\n",
       " 'volume_short_today': 0,\n",
       " 'volume_short_his': 0,\n",
       " 'volume_short': 0,\n",
       " 'volume_long_frozen_today': 0,\n",
       " 'volume_long_frozen_his': 0,\n",
       " 'volume_long_frozen': 0,\n",
       " 'volume_short_frozen_today': 0,\n",
       " 'volume_short_frozen_his': 0,\n",
       " 'volume_short_frozen': 0,\n",
       " 'margin_long': 2700.0,\n",
       " 'margin_short': 0,\n",
       " 'margin': 2700.0,\n",
       " 'position_price_long': 3000.0,\n",
       " 'position_cost_long': 30000.0,\n",
       " 'position_price_short': 0,\n",
       " 'position_cost_short': 0,\n",
       " 'open_price_long': 3000.0,\n",
       " 'open_cost_long': 30000.0,\n",
       " 'open_price_short': 0,\n",
       " 'open_cost_short': 0,\n",
       " 'trades': [],\n",
       " 'orders': {},\n",
       " 'last_price': 3100,\n",
       " 'float_profit_long': 1000.0,\n",
       " 'float_profit_short': 0,\n",
       " 'float_profit': 1000.0,\n",
       " 'position_profit_long': 1000.0,\n",
       " 'position_profit_short': 0,\n",
       " 'position_profit': 1000.0}"
      ]
     },
     "execution_count": 10,
     "metadata": {},
     "output_type": "execute_result"
    }
   ],
   "source": [
    "pos.message"
   ]
  },
  {
   "cell_type": "code",
   "execution_count": 11,
   "metadata": {},
   "outputs": [],
   "source": [
    "pos1 = QA_Position(code='000001')"
   ]
  },
  {
   "cell_type": "code",
   "execution_count": 12,
   "metadata": {},
   "outputs": [
    {
     "data": {
      "text/plain": [
       "{'code': '000001',\n",
       " 'instrument_id': '000001',\n",
       " 'user_id': 'quantaxis',\n",
       " 'portfolio_cookie': 'portfolio',\n",
       " 'username': 'quantaxis',\n",
       " 'position_id': '1c1c4027-a50e-427a-abe9-a0f762f00d8a',\n",
       " 'account_cookie': 'quantaxis',\n",
       " 'frozen': {},\n",
       " 'name': None,\n",
       " 'spms_id': None,\n",
       " 'oms_id': None,\n",
       " 'market_type': 'stock_cn',\n",
       " 'exchange_id': None,\n",
       " 'moneypreset': 100000,\n",
       " 'moneypresetLeft': 100000,\n",
       " 'lastupdatetime': '',\n",
       " 'volume_long_today': 0,\n",
       " 'volume_long_his': 0,\n",
       " 'volume_long': 0,\n",
       " 'volume_short_today': 0,\n",
       " 'volume_short_his': 0,\n",
       " 'volume_short': 0,\n",
       " 'volume_long_frozen_today': 0,\n",
       " 'volume_long_frozen_his': 0,\n",
       " 'volume_long_frozen': 0,\n",
       " 'volume_short_frozen_today': 0,\n",
       " 'volume_short_frozen_his': 0,\n",
       " 'volume_short_frozen': 0,\n",
       " 'margin_long': 0,\n",
       " 'margin_short': 0,\n",
       " 'margin': 0,\n",
       " 'position_price_long': 0,\n",
       " 'position_cost_long': 0,\n",
       " 'position_price_short': 0,\n",
       " 'position_cost_short': 0,\n",
       " 'open_price_long': 0,\n",
       " 'open_cost_long': 0,\n",
       " 'open_price_short': 0,\n",
       " 'open_cost_short': 0,\n",
       " 'trades': [],\n",
       " 'orders': {},\n",
       " 'last_price': 0,\n",
       " 'float_profit_long': 0,\n",
       " 'float_profit_short': 0,\n",
       " 'float_profit': 0,\n",
       " 'position_profit_long': 0,\n",
       " 'position_profit_short': 0,\n",
       " 'position_profit': 0}"
      ]
     },
     "execution_count": 12,
     "metadata": {},
     "output_type": "execute_result"
    }
   ],
   "source": [
    "pos1.message"
   ]
  },
  {
   "cell_type": "code",
   "execution_count": 13,
   "metadata": {},
   "outputs": [],
   "source": [
    "from QIFIAccount import QIFI_Account, ORDER_DIRECTION, uuid"
   ]
  },
  {
   "cell_type": "code",
   "execution_count": 14,
   "metadata": {
    "scrolled": false
   },
   "outputs": [
    {
     "name": "stdout",
     "output_type": "stream",
     "text": [
      "{'account_cookie': '038f9711-d2bf-4b63-bd77-6f602095fc43',\n",
      " 'accounts': {'WithdrawQuota': 0,\n",
      "              'available': 1000000,\n",
      "              'balance': 0,\n",
      "              'close_profit': 0,\n",
      "              'commission': 0,\n",
      "              'currency': 'CNY',\n",
      "              'deposit': 1000000,\n",
      "              'float_profit': None,\n",
      "              'frozen_commission': 0.0,\n",
      "              'frozen_margin': 0.0,\n",
      "              'frozen_premium': 0.0,\n",
      "              'margin': 0,\n",
      "              'position_profit': None,\n",
      "              'pre_balance': 0,\n",
      "              'premium': None,\n",
      "              'risk_ratio': 0.0,\n",
      "              'static_balance': 0,\n",
      "              'user_id': '038f9711-d2bf-4b63-bd77-6f602095fc43',\n",
      "              'withdraw': 0},\n",
      " 'bank_password': '',\n",
      " 'bankid': 'QASIM',\n",
      " 'bankname': 'QASIMBank',\n",
      " 'banks': {'QASIM': {'bank_account': '',\n",
      "                     'fetch_amount': 0.0,\n",
      "                     'id': 'QASIM',\n",
      "                     'name': 'QASIMBank',\n",
      "                     'qry_count': 0}},\n",
      " 'broker_name': 'QUANTAXIS',\n",
      " 'capital_password': '',\n",
      " 'events': {'2019-10-07 22:39:15.787406': '转账成功 1000000'},\n",
      " 'investor_name': '',\n",
      " 'model': 'SIM',\n",
      " 'money': 1000000,\n",
      " 'orders': {},\n",
      " 'password': '6c579d40-7410-46c2-8e22-471f2fbc11bd',\n",
      " 'ping_gap': 5,\n",
      " 'portfolio': '',\n",
      " 'positions': {},\n",
      " 'pub_host': '',\n",
      " 'settlement': {},\n",
      " 'sourceid': 'QIFI_Account',\n",
      " 'status': 200,\n",
      " 'taskid': '',\n",
      " 'trade_host': '',\n",
      " 'trades': {},\n",
      " 'trading_day': '2019-10-07',\n",
      " 'transfers': {'0': {'amount': 1000000,\n",
      "                     'currency': 'CNY',\n",
      "                     'datetime': 433241234123,\n",
      "                     'error_id': 0,\n",
      "                     'error_msg': '成功'}},\n",
      " 'updatetime': '',\n",
      " 'wsuri': 'ws://www.yutiansut.com:7988'}\n",
      "{'account_cookie': '038f9711-d2bf-4b63-bd77-6f602095fc43', 'user_id': '038f9711-d2bf-4b63-bd77-6f602095fc43', 'instrument_id': 'RB2001', 'towards': 2, 'exchange_id': 'SHFE', 'order_time': '2019-10-07 22:39:15.938584', 'volume': 10.0, 'price': 5000.0, 'order_id': '700b6b92-ba85-4ed2-a68b-10bda6350ad2', 'seqno': 1, 'direction': 'BUY', 'offset': 'OPEN', 'volume_orign': 10.0, 'price_type': 'LIMIT', 'limit_price': 5000.0, 'time_condition': 'GFD', 'volume_condition': 'ANY', 'insert_date_time': '2019-10-07 22:39:15.938584', 'exchange_order_id': 'b5f10234-df37-4baa-91c7-4d3e97cddf29', 'status': 100, 'volume_left': 10.0, 'last_msg': '已报'}\n",
      "{'account_cookie': '038f9711-d2bf-4b63-bd77-6f602095fc43',\n",
      " 'accounts': {'WithdrawQuota': 0,\n",
      "              'available': 955000.0,\n",
      "              'balance': 0,\n",
      "              'close_profit': 0,\n",
      "              'commission': 0,\n",
      "              'currency': 'CNY',\n",
      "              'deposit': 1000000,\n",
      "              'float_profit': None,\n",
      "              'frozen_commission': 0.0,\n",
      "              'frozen_margin': 0.0,\n",
      "              'frozen_premium': 0.0,\n",
      "              'margin': 40500.0,\n",
      "              'position_profit': None,\n",
      "              'pre_balance': 0,\n",
      "              'premium': None,\n",
      "              'risk_ratio': 0.0,\n",
      "              'static_balance': 0,\n",
      "              'user_id': '038f9711-d2bf-4b63-bd77-6f602095fc43',\n",
      "              'withdraw': 0},\n",
      " 'bank_password': '',\n",
      " 'bankid': 'QASIM',\n",
      " 'bankname': 'QASIMBank',\n",
      " 'banks': {'QASIM': {'bank_account': '',\n",
      "                     'fetch_amount': 0.0,\n",
      "                     'id': 'QASIM',\n",
      "                     'name': 'QASIMBank',\n",
      "                     'qry_count': 0}},\n",
      " 'broker_name': 'QUANTAXIS',\n",
      " 'capital_password': '',\n",
      " 'events': {'2019-10-07 22:39:15.787406': '转账成功 1000000',\n",
      "            '2019-10-07 22:39:15.939536': '全部成交 '\n",
      "                                          '700b6b92-ba85-4ed2-a68b-10bda6350ad2'},\n",
      " 'investor_name': '',\n",
      " 'model': 'SIM',\n",
      " 'money': 955000.0,\n",
      " 'orders': {'700b6b92-ba85-4ed2-a68b-10bda6350ad2': {'account_cookie': '038f9711-d2bf-4b63-bd77-6f602095fc43',\n",
      "                                                     'direction': 'BUY',\n",
      "                                                     'exchange_id': 'SHFE',\n",
      "                                                     'exchange_order_id': 'b5f10234-df37-4baa-91c7-4d3e97cddf29',\n",
      "                                                     'insert_date_time': '2019-10-07 '\n",
      "                                                                         '22:39:15.938584',\n",
      "                                                     'instrument_id': 'RB2001',\n",
      "                                                     'last_msg': '全部成交',\n",
      "                                                     'limit_price': 5000.0,\n",
      "                                                     'offset': 'OPEN',\n",
      "                                                     'order_id': '700b6b92-ba85-4ed2-a68b-10bda6350ad2',\n",
      "                                                     'order_time': '2019-10-07 '\n",
      "                                                                   '22:39:15.938584',\n",
      "                                                     'price': 5000.0,\n",
      "                                                     'price_type': 'LIMIT',\n",
      "                                                     'seqno': 1,\n",
      "                                                     'status': 300,\n",
      "                                                     'time_condition': 'GFD',\n",
      "                                                     'towards': 2,\n",
      "                                                     'user_id': '038f9711-d2bf-4b63-bd77-6f602095fc43',\n",
      "                                                     'volume': 10.0,\n",
      "                                                     'volume_condition': 'ANY',\n",
      "                                                     'volume_left': 0.0,\n",
      "                                                     'volume_orign': 10.0}},\n",
      " 'password': '6c579d40-7410-46c2-8e22-471f2fbc11bd',\n",
      " 'ping_gap': 5,\n",
      " 'portfolio': '',\n",
      " 'positions': {'RB2001': {'account_cookie': 'quantaxis',\n",
      "                          'code': 'RB2001',\n",
      "                          'exchange_id': None,\n",
      "                          'float_profit': 0.0,\n",
      "                          'float_profit_long': 0.0,\n",
      "                          'float_profit_short': 0,\n",
      "                          'frozen': {},\n",
      "                          'instrument_id': 'RB2001',\n",
      "                          'last_price': 4500,\n",
      "                          'lastupdatetime': '',\n",
      "                          'margin': 40500.0,\n",
      "                          'margin_long': 40500.0,\n",
      "                          'margin_short': 0,\n",
      "                          'market_type': 'future_cn',\n",
      "                          'moneypreset': 100000,\n",
      "                          'moneypresetLeft': 59500.0,\n",
      "                          'name': None,\n",
      "                          'oms_id': None,\n",
      "                          'open_cost_long': 450000.0,\n",
      "                          'open_cost_short': 0,\n",
      "                          'open_price_long': 4500.0,\n",
      "                          'open_price_short': 0,\n",
      "                          'orders': {},\n",
      "                          'portfolio_cookie': 'portfolio',\n",
      "                          'position_cost_long': 450000.0,\n",
      "                          'position_cost_short': 0,\n",
      "                          'position_id': '5981b6d2-acc4-4aa8-b56e-7b1a31154d76',\n",
      "                          'position_price_long': 4500.0,\n",
      "                          'position_price_short': 0,\n",
      "                          'position_profit': 0.0,\n",
      "                          'position_profit_long': 0.0,\n",
      "                          'position_profit_short': 0,\n",
      "                          'spms_id': None,\n",
      "                          'trades': [],\n",
      "                          'user_id': 'quantaxis',\n",
      "                          'username': 'quantaxis',\n",
      "                          'volume_long': 10.0,\n",
      "                          'volume_long_frozen': 0,\n",
      "                          'volume_long_frozen_his': 0,\n",
      "                          'volume_long_frozen_today': 0,\n",
      "                          'volume_long_his': 0,\n",
      "                          'volume_long_today': 10.0,\n",
      "                          'volume_short': 0,\n",
      "                          'volume_short_frozen': 0,\n",
      "                          'volume_short_frozen_his': 0,\n",
      "                          'volume_short_frozen_today': 0,\n",
      "                          'volume_short_his': 0,\n",
      "                          'volume_short_today': 0}},\n",
      " 'pub_host': '',\n",
      " 'settlement': {},\n"
     ]
    },
    {
     "name": "stdout",
     "output_type": "stream",
     "text": [
      " 'sourceid': 'QIFI_Account',\n",
      " 'status': 200,\n",
      " 'taskid': '',\n",
      " 'trade_host': '',\n",
      " 'trades': {'96f4939c-ee6d-4750-a6aa-829ec4068f61': {'direction': 'BUY',\n",
      "                                                     'exchange_id': 'SHFE',\n",
      "                                                     'exchange_trade_id': '96f4939c-ee6d-4750-a6aa-829ec4068f61',\n",
      "                                                     'instrument_id': 'RB2001',\n",
      "                                                     'offset': 'OPEN',\n",
      "                                                     'order_id': '700b6b92-ba85-4ed2-a68b-10bda6350ad2',\n",
      "                                                     'price': 4500,\n",
      "                                                     'seqno': 2,\n",
      "                                                     'trade_date_time': '2019-10-07 '\n",
      "                                                                        '22:39:15.939536',\n",
      "                                                     'trade_id': '96f4939c-ee6d-4750-a6aa-829ec4068f61',\n",
      "                                                     'user_id': '038f9711-d2bf-4b63-bd77-6f602095fc43',\n",
      "                                                     'volume': 10.0}},\n",
      " 'trading_day': '2019-10-07',\n",
      " 'transfers': {'0': {'amount': 1000000,\n",
      "                     'currency': 'CNY',\n",
      "                     'datetime': 433241234123,\n",
      "                     'error_id': 0,\n",
      "                     'error_msg': '成功'}},\n",
      " 'updatetime': '',\n",
      " 'wsuri': 'ws://www.yutiansut.com:7988'}\n"
     ]
    }
   ],
   "source": [
    "acc = QIFI_Account(\"x1\", \"x1\")\n",
    "acc.initial()\n",
    "import pprint\n",
    "pprint.pprint(acc.message)\n",
    "\n",
    "r = acc.send_order('RB2001', 10, 5000, ORDER_DIRECTION.BUY_OPEN)\n",
    "print(r)\n",
    "\n",
    "acc.receive_deal(r['instrument_id'], 4500, r['volume'], r['towards'],\n",
    "                 acc.dtstr, order_id=r['order_id'], trade_id=str(uuid.uuid4()))\n",
    "import pprint\n",
    "pprint.pprint(acc.message)\n"
   ]
  },
  {
   "cell_type": "code",
   "execution_count": null,
   "metadata": {},
   "outputs": [],
   "source": []
  },
  {
   "cell_type": "code",
   "execution_count": 15,
   "metadata": {},
   "outputs": [],
   "source": [
    "sr = acc.send_order('000001',10, 12, ORDER_DIRECTION.BUY)"
   ]
  },
  {
   "cell_type": "code",
   "execution_count": 16,
   "metadata": {
    "scrolled": true
   },
   "outputs": [],
   "source": [
    "acc.make_deal(sr)"
   ]
  },
  {
   "cell_type": "code",
   "execution_count": 17,
   "metadata": {},
   "outputs": [
    {
     "name": "stdout",
     "output_type": "stream",
     "text": [
      "{'account_cookie': '038f9711-d2bf-4b63-bd77-6f602095fc43',\n",
      " 'accounts': {'WithdrawQuota': 0,\n",
      "              'available': 954880.0,\n",
      "              'balance': 0,\n",
      "              'close_profit': 0,\n",
      "              'commission': 0,\n",
      "              'currency': 'CNY',\n",
      "              'deposit': 1000000,\n",
      "              'float_profit': None,\n",
      "              'frozen_commission': 0.0,\n",
      "              'frozen_margin': 0.0,\n",
      "              'frozen_premium': 0.0,\n",
      "              'margin': 40500.0,\n",
      "              'position_profit': None,\n",
      "              'pre_balance': 0,\n",
      "              'premium': None,\n",
      "              'risk_ratio': 0.0,\n",
      "              'static_balance': 0,\n",
      "              'user_id': '038f9711-d2bf-4b63-bd77-6f602095fc43',\n",
      "              'withdraw': 0},\n",
      " 'bank_password': '',\n",
      " 'bankid': 'QASIM',\n",
      " 'bankname': 'QASIMBank',\n",
      " 'banks': {'QASIM': {'bank_account': '',\n",
      "                     'fetch_amount': 0.0,\n",
      "                     'id': 'QASIM',\n",
      "                     'name': 'QASIMBank',\n",
      "                     'qry_count': 0}},\n",
      " 'broker_name': 'QUANTAXIS',\n",
      " 'capital_password': '',\n",
      " 'events': {'2019-10-07 22:39:15.787406': '转账成功 1000000',\n",
      "            '2019-10-07 22:39:15.939536': '全部成交 '\n",
      "                                          '700b6b92-ba85-4ed2-a68b-10bda6350ad2',\n",
      "            '2019-10-07 22:39:16.527420': '全部成交 '\n",
      "                                          '292295b2-ea1e-479a-a447-271ecfcd1107'},\n",
      " 'investor_name': '',\n",
      " 'model': 'SIM',\n",
      " 'money': 954880.0,\n",
      " 'orders': {'292295b2-ea1e-479a-a447-271ecfcd1107': {'account_cookie': '038f9711-d2bf-4b63-bd77-6f602095fc43',\n",
      "                                                     'direction': 'BUY',\n",
      "                                                     'exchange_id': None,\n",
      "                                                     'exchange_order_id': '2cad0b77-06e1-4fe3-ad11-566199a62b45',\n",
      "                                                     'insert_date_time': '2019-10-07 '\n",
      "                                                                         '22:39:16.514418',\n",
      "                                                     'instrument_id': '000001',\n",
      "                                                     'last_msg': '全部成交',\n",
      "                                                     'limit_price': 12.0,\n",
      "                                                     'offset': '',\n",
      "                                                     'order_id': '292295b2-ea1e-479a-a447-271ecfcd1107',\n",
      "                                                     'order_time': '2019-10-07 '\n",
      "                                                                   '22:39:16.514418',\n",
      "                                                     'price': 12.0,\n",
      "                                                     'price_type': 'LIMIT',\n",
      "                                                     'seqno': 3,\n",
      "                                                     'status': 300,\n",
      "                                                     'time_condition': 'GFD',\n",
      "                                                     'towards': 1,\n",
      "                                                     'user_id': '038f9711-d2bf-4b63-bd77-6f602095fc43',\n",
      "                                                     'volume': 10.0,\n",
      "                                                     'volume_condition': 'ANY',\n",
      "                                                     'volume_left': 0.0,\n",
      "                                                     'volume_orign': 10.0},\n",
      "            '700b6b92-ba85-4ed2-a68b-10bda6350ad2': {'account_cookie': '038f9711-d2bf-4b63-bd77-6f602095fc43',\n",
      "                                                     'direction': 'BUY',\n",
      "                                                     'exchange_id': 'SHFE',\n",
      "                                                     'exchange_order_id': 'b5f10234-df37-4baa-91c7-4d3e97cddf29',\n",
      "                                                     'insert_date_time': '2019-10-07 '\n",
      "                                                                         '22:39:15.938584',\n",
      "                                                     'instrument_id': 'RB2001',\n",
      "                                                     'last_msg': '全部成交',\n",
      "                                                     'limit_price': 5000.0,\n",
      "                                                     'offset': 'OPEN',\n",
      "                                                     'order_id': '700b6b92-ba85-4ed2-a68b-10bda6350ad2',\n",
      "                                                     'order_time': '2019-10-07 '\n",
      "                                                                   '22:39:15.938584',\n",
      "                                                     'price': 5000.0,\n",
      "                                                     'price_type': 'LIMIT',\n",
      "                                                     'seqno': 1,\n",
      "                                                     'status': 300,\n",
      "                                                     'time_condition': 'GFD',\n",
      "                                                     'towards': 2,\n",
      "                                                     'user_id': '038f9711-d2bf-4b63-bd77-6f602095fc43',\n",
      "                                                     'volume': 10.0,\n",
      "                                                     'volume_condition': 'ANY',\n",
      "                                                     'volume_left': 0.0,\n",
      "                                                     'volume_orign': 10.0}},\n",
      " 'password': '6c579d40-7410-46c2-8e22-471f2fbc11bd',\n",
      " 'ping_gap': 5,\n",
      " 'portfolio': '',\n",
      " 'positions': {'000001': {'account_cookie': 'quantaxis',\n",
      "                          'code': '000001',\n",
      "                          'exchange_id': None,\n",
      "                          'float_profit': 120.0,\n",
      "                          'float_profit_long': 120.0,\n",
      "                          'float_profit_short': 0.0,\n",
      "                          'frozen': {},\n",
      "                          'instrument_id': '000001',\n",
      "                          'last_price': 12.0,\n",
      "                          'lastupdatetime': '',\n",
      "                          'margin': 0,\n",
      "                          'margin_long': 0,\n",
      "                          'margin_short': 0,\n",
      "                          'market_type': 'stock_cn',\n",
      "                          'moneypreset': 100000,\n",
      "                          'moneypresetLeft': 100000,\n",
      "                          'name': None,\n",
      "                          'oms_id': None,\n",
      "                          'open_cost_long': 0,\n",
      "                          'open_cost_short': 0,\n",
      "                          'open_price_long': 0,\n",
      "                          'open_price_short': 0,\n",
      "                          'orders': {},\n",
      "                          'portfolio_cookie': 'portfolio',\n",
      "                          'position_cost_long': 0,\n",
      "                          'position_cost_short': 0,\n",
      "                          'position_id': 'a58daea2-72c5-45c3-97ed-a875b101688d',\n",
      "                          'position_price_long': 0,\n",
      "                          'position_price_short': 0,\n",
      "                          'position_profit': 120.0,\n",
      "                          'position_profit_long': 120.0,\n",
      "                          'position_profit_short': 0.0,\n",
      "                          'spms_id': None,\n",
      "                          'trades': [],\n",
      "                          'user_id': 'quantaxis',\n",
      "                          'username': 'quantaxis',\n",
      "                          'volume_long': 10.0,\n",
      "                          'volume_long_frozen': 0,\n",
      "                          'volume_long_frozen_his': 0,\n",
      "                          'volume_long_frozen_today': 0,\n",
      "                          'volume_long_his': 0,\n",
      "                          'volume_long_today': 10.0,\n",
      "                          'volume_short': 0,\n",
      "                          'volume_short_frozen': 0,\n",
      "                          'volume_short_frozen_his': 0,\n",
      "                          'volume_short_frozen_today': 0,\n",
      "                          'volume_short_his': 0,\n",
      "                          'volume_short_today': 0},\n",
      "               'RB2001': {'account_cookie': 'quantaxis',\n",
      "                          'code': 'RB2001',\n",
      "                          'exchange_id': None,\n",
      "                          'float_profit': 0.0,\n",
      "                          'float_profit_long': 0.0,\n",
      "                          'float_profit_short': 0,\n",
      "                          'frozen': {},\n"
     ]
    },
    {
     "name": "stdout",
     "output_type": "stream",
     "text": [
      "                          'instrument_id': 'RB2001',\n",
      "                          'last_price': 4500,\n",
      "                          'lastupdatetime': '',\n",
      "                          'margin': 40500.0,\n",
      "                          'margin_long': 40500.0,\n",
      "                          'margin_short': 0,\n",
      "                          'market_type': 'future_cn',\n",
      "                          'moneypreset': 100000,\n",
      "                          'moneypresetLeft': 59500.0,\n",
      "                          'name': None,\n",
      "                          'oms_id': None,\n",
      "                          'open_cost_long': 450000.0,\n",
      "                          'open_cost_short': 0,\n",
      "                          'open_price_long': 4500.0,\n",
      "                          'open_price_short': 0,\n",
      "                          'orders': {},\n",
      "                          'portfolio_cookie': 'portfolio',\n",
      "                          'position_cost_long': 450000.0,\n",
      "                          'position_cost_short': 0,\n",
      "                          'position_id': '5981b6d2-acc4-4aa8-b56e-7b1a31154d76',\n",
      "                          'position_price_long': 4500.0,\n",
      "                          'position_price_short': 0,\n",
      "                          'position_profit': 0.0,\n",
      "                          'position_profit_long': 0.0,\n",
      "                          'position_profit_short': 0,\n",
      "                          'spms_id': None,\n",
      "                          'trades': [],\n",
      "                          'user_id': 'quantaxis',\n",
      "                          'username': 'quantaxis',\n",
      "                          'volume_long': 10.0,\n",
      "                          'volume_long_frozen': 0,\n",
      "                          'volume_long_frozen_his': 0,\n",
      "                          'volume_long_frozen_today': 0,\n",
      "                          'volume_long_his': 0,\n",
      "                          'volume_long_today': 10.0,\n",
      "                          'volume_short': 0,\n",
      "                          'volume_short_frozen': 0,\n",
      "                          'volume_short_frozen_his': 0,\n",
      "                          'volume_short_frozen_today': 0,\n",
      "                          'volume_short_his': 0,\n",
      "                          'volume_short_today': 0}},\n",
      " 'pub_host': '',\n",
      " 'settlement': {},\n",
      " 'sourceid': 'QIFI_Account',\n",
      " 'status': 200,\n",
      " 'taskid': '',\n",
      " 'trade_host': '',\n",
      " 'trades': {'04883c70-4ea3-4aa5-af9e-517d00a519c5': {'direction': 'BUY',\n",
      "                                                     'exchange_id': None,\n",
      "                                                     'exchange_trade_id': '04883c70-4ea3-4aa5-af9e-517d00a519c5',\n",
      "                                                     'instrument_id': '000001',\n",
      "                                                     'offset': '',\n",
      "                                                     'order_id': '292295b2-ea1e-479a-a447-271ecfcd1107',\n",
      "                                                     'price': 12.0,\n",
      "                                                     'seqno': 4,\n",
      "                                                     'trade_date_time': '2019-10-07 '\n",
      "                                                                        '22:39:16.527420',\n",
      "                                                     'trade_id': '04883c70-4ea3-4aa5-af9e-517d00a519c5',\n",
      "                                                     'user_id': '038f9711-d2bf-4b63-bd77-6f602095fc43',\n",
      "                                                     'volume': 10.0},\n",
      "            '96f4939c-ee6d-4750-a6aa-829ec4068f61': {'direction': 'BUY',\n",
      "                                                     'exchange_id': 'SHFE',\n",
      "                                                     'exchange_trade_id': '96f4939c-ee6d-4750-a6aa-829ec4068f61',\n",
      "                                                     'instrument_id': 'RB2001',\n",
      "                                                     'offset': 'OPEN',\n",
      "                                                     'order_id': '700b6b92-ba85-4ed2-a68b-10bda6350ad2',\n",
      "                                                     'price': 4500,\n",
      "                                                     'seqno': 2,\n",
      "                                                     'trade_date_time': '2019-10-07 '\n",
      "                                                                        '22:39:15.939536',\n",
      "                                                     'trade_id': '96f4939c-ee6d-4750-a6aa-829ec4068f61',\n",
      "                                                     'user_id': '038f9711-d2bf-4b63-bd77-6f602095fc43',\n",
      "                                                     'volume': 10.0}},\n",
      " 'trading_day': '2019-10-07',\n",
      " 'transfers': {'0': {'amount': 1000000,\n",
      "                     'currency': 'CNY',\n",
      "                     'datetime': 433241234123,\n",
      "                     'error_id': 0,\n",
      "                     'error_msg': '成功'}},\n",
      " 'updatetime': '',\n",
      " 'wsuri': 'ws://www.yutiansut.com:7988'}\n"
     ]
    }
   ],
   "source": [
    "pprint.pprint(acc.message)"
   ]
  },
  {
   "cell_type": "code",
   "execution_count": 18,
   "metadata": {},
   "outputs": [
    {
     "data": {
      "text/plain": [
       "< QAPOSITION 000001 amount 10.0/0 >"
      ]
     },
     "execution_count": 18,
     "metadata": {},
     "output_type": "execute_result"
    }
   ],
   "source": [
    "acc.get_position('000001')"
   ]
  },
  {
   "cell_type": "code",
   "execution_count": 19,
   "metadata": {},
   "outputs": [
    {
     "data": {
      "text/plain": [
       "< QAPOSITION RB2001 amount 10.0/0 >"
      ]
     },
     "execution_count": 19,
     "metadata": {},
     "output_type": "execute_result"
    }
   ],
   "source": [
    "acc.get_position('RB2001')"
   ]
  },
  {
   "cell_type": "code",
   "execution_count": 20,
   "metadata": {},
   "outputs": [],
   "source": [
    "rb = acc.get_position('RB2001')"
   ]
  },
  {
   "cell_type": "code",
   "execution_count": 21,
   "metadata": {},
   "outputs": [
    {
     "data": {
      "text/plain": [
       "{'volume_long_today': 10.0,\n",
       " 'volume_long_his': 0,\n",
       " 'volume_long': 10.0,\n",
       " 'volume_short_today': 0,\n",
       " 'volume_short_his': 0,\n",
       " 'volume_short': 0}"
      ]
     },
     "execution_count": 21,
     "metadata": {},
     "output_type": "execute_result"
    }
   ],
   "source": [
    "rb.hold_detail"
   ]
  },
  {
   "cell_type": "code",
   "execution_count": 23,
   "metadata": {},
   "outputs": [
    {
     "data": {
      "text/plain": [
       "{'volume_long': 10.0, 'volume_short': 0}"
      ]
     },
     "execution_count": 23,
     "metadata": {},
     "output_type": "execute_result"
    }
   ],
   "source": [
    "rb.close_available"
   ]
  },
  {
   "cell_type": "code",
   "execution_count": 24,
   "metadata": {},
   "outputs": [
    {
     "data": {
      "text/plain": [
       "0.0"
      ]
     },
     "execution_count": 24,
     "metadata": {},
     "output_type": "execute_result"
    }
   ],
   "source": [
    "rb.position_profit"
   ]
  },
  {
   "cell_type": "code",
   "execution_count": 25,
   "metadata": {},
   "outputs": [
    {
     "data": {
      "text/plain": [
       "0.0"
      ]
     },
     "execution_count": 25,
     "metadata": {},
     "output_type": "execute_result"
    }
   ],
   "source": [
    "rb.float_profit"
   ]
  },
  {
   "cell_type": "code",
   "execution_count": 26,
   "metadata": {},
   "outputs": [],
   "source": [
    "rb.on_pirce_change(3950)"
   ]
  },
  {
   "cell_type": "code",
   "execution_count": 28,
   "metadata": {},
   "outputs": [
    {
     "data": {
      "text/plain": [
       "-55000.0"
      ]
     },
     "execution_count": 28,
     "metadata": {},
     "output_type": "execute_result"
    }
   ],
   "source": [
    "rb.position_profit"
   ]
  },
  {
   "cell_type": "code",
   "execution_count": 29,
   "metadata": {},
   "outputs": [
    {
     "data": {
      "text/plain": [
       "450000.0"
      ]
     },
     "execution_count": 29,
     "metadata": {},
     "output_type": "execute_result"
    }
   ],
   "source": [
    "rb.open_cost_long"
   ]
  },
  {
   "cell_type": "code",
   "execution_count": 30,
   "metadata": {},
   "outputs": [
    {
     "data": {
      "text/plain": [
       "40500.0"
      ]
     },
     "execution_count": 30,
     "metadata": {},
     "output_type": "execute_result"
    }
   ],
   "source": [
    "rb.margin"
   ]
  },
  {
   "cell_type": "code",
   "execution_count": 31,
   "metadata": {},
   "outputs": [
    {
     "data": {
      "text/plain": [
       "4500.0"
      ]
     },
     "execution_count": 31,
     "metadata": {},
     "output_type": "execute_result"
    }
   ],
   "source": [
    "rb.open_price_long"
   ]
  },
  {
   "cell_type": "code",
   "execution_count": 32,
   "metadata": {},
   "outputs": [
    {
     "data": {
      "text/plain": [
       "450000.0"
      ]
     },
     "execution_count": 32,
     "metadata": {},
     "output_type": "execute_result"
    }
   ],
   "source": [
    "rb.position_cost_long"
   ]
  },
  {
   "cell_type": "code",
   "execution_count": 35,
   "metadata": {},
   "outputs": [
    {
     "data": {
      "text/plain": [
       "-55000.0"
      ]
     },
     "execution_count": 35,
     "metadata": {},
     "output_type": "execute_result"
    }
   ],
   "source": [
    "rb.float_profit"
   ]
  },
  {
   "cell_type": "code",
   "execution_count": 36,
   "metadata": {},
   "outputs": [
    {
     "data": {
      "text/plain": [
       "{'volume_long': 10.0, 'volume_short': 0}"
      ]
     },
     "execution_count": 36,
     "metadata": {},
     "output_type": "execute_result"
    }
   ],
   "source": [
    "rb.close_available"
   ]
  },
  {
   "cell_type": "code",
   "execution_count": null,
   "metadata": {},
   "outputs": [],
   "source": []
  },
  {
   "cell_type": "code",
   "execution_count": null,
   "metadata": {},
   "outputs": [],
   "source": []
  },
  {
   "cell_type": "code",
   "execution_count": 38,
   "metadata": {},
   "outputs": [
    {
     "data": {
      "text/plain": [
       "{'volume_long': 10.0,\n",
       " 'volume_short': 0,\n",
       " 'volume_long_frozen': 0,\n",
       " 'volume_short_frozen': 0}"
      ]
     },
     "execution_count": 38,
     "metadata": {},
     "output_type": "execute_result"
    }
   ],
   "source": [
    "rb.curpos"
   ]
  },
  {
   "cell_type": "code",
   "execution_count": null,
   "metadata": {},
   "outputs": [],
   "source": [
    "rb.send_order"
   ]
  }
 ],
 "metadata": {
  "kernelspec": {
   "display_name": "Python 3",
   "language": "python",
   "name": "python3"
  },
  "language_info": {
   "codemirror_mode": {
    "name": "ipython",
    "version": 3
   },
   "file_extension": ".py",
   "mimetype": "text/x-python",
   "name": "python",
   "nbconvert_exporter": "python",
   "pygments_lexer": "ipython3",
   "version": "3.7.3"
  }
 },
 "nbformat": 4,
 "nbformat_minor": 2
}
