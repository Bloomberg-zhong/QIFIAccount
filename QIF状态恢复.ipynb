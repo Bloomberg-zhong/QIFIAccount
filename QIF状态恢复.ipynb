{
 "cells": [
  {
   "cell_type": "code",
   "execution_count": 1,
   "metadata": {},
   "outputs": [],
   "source": [
    "from QIFIAccount import QIFI_Account, ORDER_DIRECTION"
   ]
  },
  {
   "cell_type": "code",
   "execution_count": 2,
   "metadata": {},
   "outputs": [],
   "source": [
    "a=QIFI_Account('c575cf42-7138-494d-a712-38ea3227a511','d524154a-702c-40b8-a23d-829226fc3fd8')"
   ]
  },
  {
   "cell_type": "code",
   "execution_count": 3,
   "metadata": {},
   "outputs": [],
   "source": [
    "a.reload()"
   ]
  },
  {
   "cell_type": "code",
   "execution_count": null,
   "metadata": {},
   "outputs": [],
   "source": []
  },
  {
   "cell_type": "code",
   "execution_count": 4,
   "metadata": {},
   "outputs": [],
   "source": [
    "\n",
    "#a.make_deal(a.send_order('RB2001', 10, 4200, ORDER_DIRECTION.BUY_OPEN))"
   ]
  },
  {
   "cell_type": "code",
   "execution_count": 5,
   "metadata": {},
   "outputs": [
    {
     "data": {
      "text/plain": [
       "{'code': '000001',\n",
       " 'instrument_id': '000001',\n",
       " 'user_id': 'quantaxis',\n",
       " 'portfolio_cookie': 'portfolio',\n",
       " 'username': 'quantaxis',\n",
       " 'position_id': '36175834-78d5-4e9c-8298-15e9bd9df618',\n",
       " 'account_cookie': 'quantaxis',\n",
       " 'frozen': {},\n",
       " 'name': None,\n",
       " 'spms_id': None,\n",
       " 'oms_id': None,\n",
       " 'market_type': 'stock_cn',\n",
       " 'exchange_id': None,\n",
       " 'moneypreset': 100000,\n",
       " 'moneypresetLeft': 100000,\n",
       " 'lastupdatetime': '',\n",
       " 'volume_long_today': 10.0,\n",
       " 'volume_long_his': 0,\n",
       " 'volume_long': 10.0,\n",
       " 'volume_short_today': 0,\n",
       " 'volume_short_his': 0,\n",
       " 'volume_short': 0,\n",
       " 'volume_long_frozen_today': 0,\n",
       " 'volume_long_frozen_his': 0,\n",
       " 'volume_long_frozen': 0,\n",
       " 'volume_short_frozen_today': 0,\n",
       " 'volume_short_frozen_his': 0,\n",
       " 'volume_short_frozen': 0,\n",
       " 'margin_long': 118.0,\n",
       " 'margin_short': 0,\n",
       " 'margin': 118.0,\n",
       " 'position_price_long': 11.8,\n",
       " 'position_cost_long': 118.0,\n",
       " 'position_price_short': 0,\n",
       " 'position_cost_short': 0,\n",
       " 'open_price_long': 11.8,\n",
       " 'open_cost_long': 118.0,\n",
       " 'open_price_short': 0,\n",
       " 'open_cost_short': 0,\n",
       " 'trades': [],\n",
       " 'orders': {},\n",
       " 'last_price': 11.8,\n",
       " 'float_profit_long': 0.0,\n",
       " 'float_profit_short': 0.0,\n",
       " 'float_profit': 0.0,\n",
       " 'position_profit_long': 0.0,\n",
       " 'position_profit_short': 0.0,\n",
       " 'position_profit': 0.0}"
      ]
     },
     "execution_count": 5,
     "metadata": {},
     "output_type": "execute_result"
    }
   ],
   "source": [
    "a.positions['000001'].message"
   ]
  },
  {
   "cell_type": "code",
   "execution_count": 6,
   "metadata": {},
   "outputs": [
    {
     "data": {
      "text/plain": [
       "0.0"
      ]
     },
     "execution_count": 6,
     "metadata": {},
     "output_type": "execute_result"
    }
   ],
   "source": [
    "a.positions['RB2001'].float_profit"
   ]
  },
  {
   "cell_type": "code",
   "execution_count": 7,
   "metadata": {},
   "outputs": [
    {
     "data": {
      "text/plain": [
       "0.0"
      ]
     },
     "execution_count": 7,
     "metadata": {},
     "output_type": "execute_result"
    }
   ],
   "source": [
    "a.positions['RB2001'].position_profit"
   ]
  },
  {
   "cell_type": "code",
   "execution_count": 8,
   "metadata": {},
   "outputs": [
    {
     "data": {
      "text/plain": [
       "{'code': 'RB2001',\n",
       " 'instrument_id': 'RB2001',\n",
       " 'user_id': 'quantaxis',\n",
       " 'portfolio_cookie': 'portfolio',\n",
       " 'username': 'quantaxis',\n",
       " 'position_id': '5820fd1b-e3cc-4aac-bf8c-a0935751a24d',\n",
       " 'account_cookie': 'quantaxis',\n",
       " 'frozen': {},\n",
       " 'name': None,\n",
       " 'spms_id': None,\n",
       " 'oms_id': None,\n",
       " 'market_type': 'stock_cn',\n",
       " 'exchange_id': None,\n",
       " 'moneypreset': 100000,\n",
       " 'moneypresetLeft': -51200.0,\n",
       " 'lastupdatetime': '',\n",
       " 'volume_long_today': 40.0,\n",
       " 'volume_long_his': 0,\n",
       " 'volume_long': 40.0,\n",
       " 'volume_short_today': 0,\n",
       " 'volume_short_his': 0,\n",
       " 'volume_short': 0,\n",
       " 'volume_long_frozen_today': 0,\n",
       " 'volume_long_frozen_his': 0,\n",
       " 'volume_long_frozen': 0,\n",
       " 'volume_short_frozen_today': 0,\n",
       " 'volume_short_frozen_his': 0,\n",
       " 'volume_short_frozen': 0,\n",
       " 'margin_long': 151200.0,\n",
       " 'margin_short': 0,\n",
       " 'margin': 151200.0,\n",
       " 'position_price_long': 4200.0,\n",
       " 'position_cost_long': 1680000.0,\n",
       " 'position_price_short': 0,\n",
       " 'position_cost_short': 0,\n",
       " 'open_price_long': 4200.0,\n",
       " 'open_cost_long': 1680000.0,\n",
       " 'open_price_short': 0,\n",
       " 'open_cost_short': 0,\n",
       " 'trades': [],\n",
       " 'orders': {},\n",
       " 'last_price': 4200.0,\n",
       " 'float_profit_long': 0.0,\n",
       " 'float_profit_short': 0.0,\n",
       " 'float_profit': 0.0,\n",
       " 'position_profit_long': 0.0,\n",
       " 'position_profit_short': 0.0,\n",
       " 'position_profit': 0.0}"
      ]
     },
     "execution_count": 8,
     "metadata": {},
     "output_type": "execute_result"
    }
   ],
   "source": [
    "a.positions['RB2001'].message"
   ]
  },
  {
   "cell_type": "code",
   "execution_count": 9,
   "metadata": {},
   "outputs": [
    {
     "data": {
      "text/plain": [
       "1000000.0"
      ]
     },
     "execution_count": 9,
     "metadata": {},
     "output_type": "execute_result"
    }
   ],
   "source": [
    "a.balance"
   ]
  },
  {
   "cell_type": "code",
   "execution_count": null,
   "metadata": {},
   "outputs": [],
   "source": []
  }
 ],
 "metadata": {
  "kernelspec": {
   "display_name": "Python 3",
   "language": "python",
   "name": "python3"
  },
  "language_info": {
   "codemirror_mode": {
    "name": "ipython",
    "version": 3
   },
   "file_extension": ".py",
   "mimetype": "text/x-python",
   "name": "python",
   "nbconvert_exporter": "python",
   "pygments_lexer": "ipython3",
   "version": "3.7.3"
  }
 },
 "nbformat": 4,
 "nbformat_minor": 2
}
